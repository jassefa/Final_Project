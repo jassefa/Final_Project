{
 "cells": [
  {
   "cell_type": "code",
   "execution_count": 1,
   "metadata": {},
   "outputs": [],
   "source": [
    "import matplotlib.pyplot as plt\n",
    "import numpy as np\n",
    "import pandas as pd\n",
    "from pandas_profiling import ProfileReport"
   ]
  },
  {
   "cell_type": "code",
   "execution_count": 2,
   "metadata": {
    "scrolled": false
   },
   "outputs": [
    {
     "data": {
      "text/html": [
       "<div>\n",
       "<style scoped>\n",
       "    .dataframe tbody tr th:only-of-type {\n",
       "        vertical-align: middle;\n",
       "    }\n",
       "\n",
       "    .dataframe tbody tr th {\n",
       "        vertical-align: top;\n",
       "    }\n",
       "\n",
       "    .dataframe thead th {\n",
       "        text-align: right;\n",
       "    }\n",
       "</style>\n",
       "<table border=\"1\" class=\"dataframe\">\n",
       "  <thead>\n",
       "    <tr style=\"text-align: right;\">\n",
       "      <th></th>\n",
       "      <th>Year</th>\n",
       "      <th>State</th>\n",
       "      <th>VEP Total Ballots Counted Rate</th>\n",
       "      <th>VEP Highest Office</th>\n",
       "      <th>Total Ballots Counted</th>\n",
       "      <th>Highest Office</th>\n",
       "      <th>Voting-Eligible Population (VEP)</th>\n",
       "    </tr>\n",
       "  </thead>\n",
       "  <tbody>\n",
       "    <tr>\n",
       "      <th>0</th>\n",
       "      <td>2000</td>\n",
       "      <td>Alabama</td>\n",
       "      <td>59.00%</td>\n",
       "      <td>51.60%</td>\n",
       "      <td>1,912,592</td>\n",
       "      <td>1,672,551</td>\n",
       "      <td>3,241,682</td>\n",
       "    </tr>\n",
       "    <tr>\n",
       "      <th>1</th>\n",
       "      <td>2004</td>\n",
       "      <td>Alabama</td>\n",
       "      <td>57.40%</td>\n",
       "      <td>57.20%</td>\n",
       "      <td>1,890,317</td>\n",
       "      <td>1,883,415</td>\n",
       "      <td>3,292,608</td>\n",
       "    </tr>\n",
       "  </tbody>\n",
       "</table>\n",
       "</div>"
      ],
      "text/plain": [
       "   Year    State VEP Total Ballots Counted Rate VEP Highest Office  \\\n",
       "0  2000  Alabama                         59.00%             51.60%   \n",
       "1  2004  Alabama                         57.40%             57.20%   \n",
       "\n",
       "  Total Ballots Counted Highest Office Voting-Eligible Population (VEP)  \n",
       "0             1,912,592      1,672,551                        3,241,682  \n",
       "1             1,890,317      1,883,415                        3,292,608  "
      ]
     },
     "execution_count": 2,
     "metadata": {},
     "output_type": "execute_result"
    }
   ],
   "source": [
    "# Read the csv file into a pandas DataFrame\n",
    "voter_to_g = pd.read_csv('../Resources/2000-2016_General_Turnout Rates.csv')\n",
    "voter_to_g.head(2)"
   ]
  },
  {
   "cell_type": "code",
   "execution_count": 3,
   "metadata": {},
   "outputs": [
    {
     "data": {
      "text/plain": [
       "Year                                255\n",
       "State                               255\n",
       "VEP Total Ballots Counted Rate      255\n",
       "VEP Highest Office                  255\n",
       "Total Ballots Counted               255\n",
       "Highest Office                      255\n",
       "Voting-Eligible Population (VEP)    255\n",
       "dtype: int64"
      ]
     },
     "execution_count": 3,
     "metadata": {},
     "output_type": "execute_result"
    }
   ],
   "source": [
    "#count number of rows\n",
    "voter_to_g.count()"
   ]
  },
  {
   "cell_type": "code",
   "execution_count": 4,
   "metadata": {},
   "outputs": [],
   "source": [
    "#replaced any spaces in rows with no space for better filtering\n",
    "voter_to_g[\"State\"] =voter_to_g.State.str.replace(' ','')"
   ]
  },
  {
   "cell_type": "code",
   "execution_count": 5,
   "metadata": {
    "scrolled": true
   },
   "outputs": [
    {
     "data": {
      "text/html": [
       "<div>\n",
       "<style scoped>\n",
       "    .dataframe tbody tr th:only-of-type {\n",
       "        vertical-align: middle;\n",
       "    }\n",
       "\n",
       "    .dataframe tbody tr th {\n",
       "        vertical-align: top;\n",
       "    }\n",
       "\n",
       "    .dataframe thead th {\n",
       "        text-align: right;\n",
       "    }\n",
       "</style>\n",
       "<table border=\"1\" class=\"dataframe\">\n",
       "  <thead>\n",
       "    <tr style=\"text-align: right;\">\n",
       "      <th></th>\n",
       "      <th>Year</th>\n",
       "      <th>State</th>\n",
       "      <th>General:VEP Turnout Rate</th>\n",
       "      <th>VEP Highest Office</th>\n",
       "      <th>General:Total Ballots Counted</th>\n",
       "      <th>Highest Office</th>\n",
       "      <th>VEP</th>\n",
       "    </tr>\n",
       "  </thead>\n",
       "  <tbody>\n",
       "    <tr>\n",
       "      <th>0</th>\n",
       "      <td>2000</td>\n",
       "      <td>Alabama</td>\n",
       "      <td>59.00%</td>\n",
       "      <td>51.60%</td>\n",
       "      <td>1,912,592</td>\n",
       "      <td>1,672,551</td>\n",
       "      <td>3,241,682</td>\n",
       "    </tr>\n",
       "    <tr>\n",
       "      <th>1</th>\n",
       "      <td>2004</td>\n",
       "      <td>Alabama</td>\n",
       "      <td>57.40%</td>\n",
       "      <td>57.20%</td>\n",
       "      <td>1,890,317</td>\n",
       "      <td>1,883,415</td>\n",
       "      <td>3,292,608</td>\n",
       "    </tr>\n",
       "  </tbody>\n",
       "</table>\n",
       "</div>"
      ],
      "text/plain": [
       "   Year    State General:VEP Turnout Rate VEP Highest Office  \\\n",
       "0  2000  Alabama                   59.00%             51.60%   \n",
       "1  2004  Alabama                   57.40%             57.20%   \n",
       "\n",
       "  General:Total Ballots Counted Highest Office        VEP  \n",
       "0                     1,912,592      1,672,551  3,241,682  \n",
       "1                     1,890,317      1,883,415  3,292,608  "
      ]
     },
     "execution_count": 5,
     "metadata": {},
     "output_type": "execute_result"
    }
   ],
   "source": [
    "# Rename the column headers\n",
    "voter_to_g2 = voter_to_g.rename(columns={\"VEP Total Ballots Counted Rate\": \"General:VEP Turnout Rate\",\n",
    "                                         \"Total Ballots Counted\": \"General:Total Ballots Counted\", \n",
    "                                        \"Voting-Eligible Population (VEP)\": \"VEP\"})\n",
    "voter_to_g2.head(2) "
   ]
  },
  {
   "cell_type": "code",
   "execution_count": 6,
   "metadata": {},
   "outputs": [
    {
     "data": {
      "text/html": [
       "<div>\n",
       "<style scoped>\n",
       "    .dataframe tbody tr th:only-of-type {\n",
       "        vertical-align: middle;\n",
       "    }\n",
       "\n",
       "    .dataframe tbody tr th {\n",
       "        vertical-align: top;\n",
       "    }\n",
       "\n",
       "    .dataframe thead th {\n",
       "        text-align: right;\n",
       "    }\n",
       "</style>\n",
       "<table border=\"1\" class=\"dataframe\">\n",
       "  <thead>\n",
       "    <tr style=\"text-align: right;\">\n",
       "      <th></th>\n",
       "      <th>Year</th>\n",
       "      <th>State</th>\n",
       "      <th>General:VEP Turnout Rate</th>\n",
       "      <th>General:Total Ballots Counted</th>\n",
       "      <th>VEP</th>\n",
       "    </tr>\n",
       "  </thead>\n",
       "  <tbody>\n",
       "    <tr>\n",
       "      <th>0</th>\n",
       "      <td>2000</td>\n",
       "      <td>Alabama</td>\n",
       "      <td>59.00%</td>\n",
       "      <td>1,912,592</td>\n",
       "      <td>3,241,682</td>\n",
       "    </tr>\n",
       "    <tr>\n",
       "      <th>1</th>\n",
       "      <td>2004</td>\n",
       "      <td>Alabama</td>\n",
       "      <td>57.40%</td>\n",
       "      <td>1,890,317</td>\n",
       "      <td>3,292,608</td>\n",
       "    </tr>\n",
       "  </tbody>\n",
       "</table>\n",
       "</div>"
      ],
      "text/plain": [
       "   Year    State General:VEP Turnout Rate General:Total Ballots Counted  \\\n",
       "0  2000  Alabama                   59.00%                     1,912,592   \n",
       "1  2004  Alabama                   57.40%                     1,890,317   \n",
       "\n",
       "         VEP  \n",
       "0  3,241,682  \n",
       "1  3,292,608  "
      ]
     },
     "execution_count": 6,
     "metadata": {},
     "output_type": "execute_result"
    }
   ],
   "source": [
    "# Create a filter DF with only needed columns\n",
    "voter_to_g_col = [\"Year\", \"State\", \"General:VEP Turnout Rate\", \"General:Total Ballots Counted\", \"VEP\"]\n",
    "voter_to_g3 = voter_to_g2[voter_to_g_col].copy()\n",
    "voter_to_g3.head(2)"
   ]
  },
  {
   "cell_type": "code",
   "execution_count": 7,
   "metadata": {},
   "outputs": [
    {
     "data": {
      "text/html": [
       "<div>\n",
       "<style scoped>\n",
       "    .dataframe tbody tr th:only-of-type {\n",
       "        vertical-align: middle;\n",
       "    }\n",
       "\n",
       "    .dataframe tbody tr th {\n",
       "        vertical-align: top;\n",
       "    }\n",
       "\n",
       "    .dataframe thead th {\n",
       "        text-align: right;\n",
       "    }\n",
       "</style>\n",
       "<table border=\"1\" class=\"dataframe\">\n",
       "  <thead>\n",
       "    <tr style=\"text-align: right;\">\n",
       "      <th></th>\n",
       "      <th>Year</th>\n",
       "      <th>State</th>\n",
       "      <th>VEP Turnout Rate</th>\n",
       "      <th>VEP Estimate</th>\n",
       "      <th>VAP Estimate</th>\n",
       "      <th>Turnout Rate VEP Total Ballots Counted</th>\n",
       "    </tr>\n",
       "  </thead>\n",
       "  <tbody>\n",
       "    <tr>\n",
       "      <th>0</th>\n",
       "      <td>2000</td>\n",
       "      <td>Alabama</td>\n",
       "      <td>15.30%</td>\n",
       "      <td>3,206,336</td>\n",
       "      <td>3,339,922</td>\n",
       "      <td>489,573</td>\n",
       "    </tr>\n",
       "    <tr>\n",
       "      <th>1</th>\n",
       "      <td>2004</td>\n",
       "      <td>Alabama</td>\n",
       "      <td>26.00%</td>\n",
       "      <td>3,321,905</td>\n",
       "      <td>3,424,354</td>\n",
       "      <td>863,695</td>\n",
       "    </tr>\n",
       "  </tbody>\n",
       "</table>\n",
       "</div>"
      ],
      "text/plain": [
       "   Year    State VEP Turnout Rate VEP Estimate VAP Estimate  \\\n",
       "0  2000  Alabama           15.30%    3,206,336    3,339,922   \n",
       "1  2004  Alabama           26.00%    3,321,905    3,424,354   \n",
       "\n",
       "  Turnout Rate VEP Total Ballots Counted  \n",
       "0                                489,573  \n",
       "1                                863,695  "
      ]
     },
     "execution_count": 7,
     "metadata": {},
     "output_type": "execute_result"
    }
   ],
   "source": [
    "# Read the csv file into a pandas DataFrame\n",
    "voter_to_p = pd.read_csv('../Resources/Primary Elections .csv')\n",
    "voter_to_p.head(2)"
   ]
  },
  {
   "cell_type": "code",
   "execution_count": 8,
   "metadata": {},
   "outputs": [],
   "source": [
    "voter_to_p[\"State\"] =voter_to_p.State.str.replace(' ','')"
   ]
  },
  {
   "cell_type": "code",
   "execution_count": 9,
   "metadata": {
    "scrolled": false
   },
   "outputs": [
    {
     "data": {
      "text/html": [
       "<div>\n",
       "<style scoped>\n",
       "    .dataframe tbody tr th:only-of-type {\n",
       "        vertical-align: middle;\n",
       "    }\n",
       "\n",
       "    .dataframe tbody tr th {\n",
       "        vertical-align: top;\n",
       "    }\n",
       "\n",
       "    .dataframe thead th {\n",
       "        text-align: right;\n",
       "    }\n",
       "</style>\n",
       "<table border=\"1\" class=\"dataframe\">\n",
       "  <thead>\n",
       "    <tr style=\"text-align: right;\">\n",
       "      <th></th>\n",
       "      <th>Year</th>\n",
       "      <th>State</th>\n",
       "      <th>Primary:VEP Turnout Rate</th>\n",
       "      <th>Primary:VEP Estimate</th>\n",
       "      <th>VAP Estimate</th>\n",
       "      <th>Primary:Total Ballots Counted</th>\n",
       "    </tr>\n",
       "  </thead>\n",
       "  <tbody>\n",
       "    <tr>\n",
       "      <th>0</th>\n",
       "      <td>2000</td>\n",
       "      <td>Alabama</td>\n",
       "      <td>15.30%</td>\n",
       "      <td>3,206,336</td>\n",
       "      <td>3,339,922</td>\n",
       "      <td>489,573</td>\n",
       "    </tr>\n",
       "    <tr>\n",
       "      <th>1</th>\n",
       "      <td>2004</td>\n",
       "      <td>Alabama</td>\n",
       "      <td>26.00%</td>\n",
       "      <td>3,321,905</td>\n",
       "      <td>3,424,354</td>\n",
       "      <td>863,695</td>\n",
       "    </tr>\n",
       "  </tbody>\n",
       "</table>\n",
       "</div>"
      ],
      "text/plain": [
       "   Year    State Primary:VEP Turnout Rate Primary:VEP Estimate VAP Estimate  \\\n",
       "0  2000  Alabama                   15.30%            3,206,336    3,339,922   \n",
       "1  2004  Alabama                   26.00%            3,321,905    3,424,354   \n",
       "\n",
       "  Primary:Total Ballots Counted  \n",
       "0                       489,573  \n",
       "1                       863,695  "
      ]
     },
     "execution_count": 9,
     "metadata": {},
     "output_type": "execute_result"
    }
   ],
   "source": [
    "# Rename the column headers\n",
    "voter_to_p2 = voter_to_p.rename(columns={\"Turnout Rate VEP Total Ballots Counted\": \"Primary:Total Ballots Counted\",\n",
    "                                        \"VEP Turnout Rate\":\"Primary:VEP Turnout Rate\",\n",
    "                                        \"VEP Estimate\":\"Primary:VEP Estimate\"})\n",
    "voter_to_p2.head(2)                 "
   ]
  },
  {
   "cell_type": "code",
   "execution_count": 10,
   "metadata": {
    "scrolled": true
   },
   "outputs": [
    {
     "data": {
      "text/html": [
       "<div>\n",
       "<style scoped>\n",
       "    .dataframe tbody tr th:only-of-type {\n",
       "        vertical-align: middle;\n",
       "    }\n",
       "\n",
       "    .dataframe tbody tr th {\n",
       "        vertical-align: top;\n",
       "    }\n",
       "\n",
       "    .dataframe thead th {\n",
       "        text-align: right;\n",
       "    }\n",
       "</style>\n",
       "<table border=\"1\" class=\"dataframe\">\n",
       "  <thead>\n",
       "    <tr style=\"text-align: right;\">\n",
       "      <th></th>\n",
       "      <th>Year</th>\n",
       "      <th>State</th>\n",
       "      <th>Primary:VEP Turnout Rate</th>\n",
       "      <th>Primary:Total Ballots Counted</th>\n",
       "    </tr>\n",
       "  </thead>\n",
       "  <tbody>\n",
       "    <tr>\n",
       "      <th>0</th>\n",
       "      <td>2000</td>\n",
       "      <td>Alabama</td>\n",
       "      <td>15.30%</td>\n",
       "      <td>489,573</td>\n",
       "    </tr>\n",
       "    <tr>\n",
       "      <th>1</th>\n",
       "      <td>2004</td>\n",
       "      <td>Alabama</td>\n",
       "      <td>26.00%</td>\n",
       "      <td>863,695</td>\n",
       "    </tr>\n",
       "  </tbody>\n",
       "</table>\n",
       "</div>"
      ],
      "text/plain": [
       "   Year    State Primary:VEP Turnout Rate Primary:Total Ballots Counted\n",
       "0  2000  Alabama                   15.30%                       489,573\n",
       "1  2004  Alabama                   26.00%                       863,695"
      ]
     },
     "execution_count": 10,
     "metadata": {},
     "output_type": "execute_result"
    }
   ],
   "source": [
    "# Create a filter DF with only needed columns\n",
    "voter_to_p_col = [\"Year\", \"State\",\"Primary:VEP Turnout Rate\",\"Primary:Total Ballots Counted\"]\n",
    "voter_to_p3 = voter_to_p2[voter_to_p_col].copy()\n",
    "voter_to_p3.head(2)"
   ]
  },
  {
   "cell_type": "code",
   "execution_count": 11,
   "metadata": {
    "scrolled": true
   },
   "outputs": [
    {
     "data": {
      "text/html": [
       "<div>\n",
       "<style scoped>\n",
       "    .dataframe tbody tr th:only-of-type {\n",
       "        vertical-align: middle;\n",
       "    }\n",
       "\n",
       "    .dataframe tbody tr th {\n",
       "        vertical-align: top;\n",
       "    }\n",
       "\n",
       "    .dataframe thead th {\n",
       "        text-align: right;\n",
       "    }\n",
       "</style>\n",
       "<table border=\"1\" class=\"dataframe\">\n",
       "  <thead>\n",
       "    <tr style=\"text-align: right;\">\n",
       "      <th></th>\n",
       "      <th>Year</th>\n",
       "      <th>State</th>\n",
       "      <th>Total Population</th>\n",
       "      <th>Total Citizen Population</th>\n",
       "      <th>Total registered</th>\n",
       "      <th>Total voted</th>\n",
       "    </tr>\n",
       "  </thead>\n",
       "  <tbody>\n",
       "    <tr>\n",
       "      <th>0</th>\n",
       "      <td>2000</td>\n",
       "      <td>Alabama</td>\n",
       "      <td>3,278,000</td>\n",
       "      <td>3,233,000</td>\n",
       "      <td>2,411,000</td>\n",
       "      <td>1,953,000</td>\n",
       "    </tr>\n",
       "    <tr>\n",
       "      <th>1</th>\n",
       "      <td>2004</td>\n",
       "      <td>Alabama</td>\n",
       "      <td>3,330,000</td>\n",
       "      <td>3,257,000</td>\n",
       "      <td>2,418,000</td>\n",
       "      <td>2,060,000</td>\n",
       "    </tr>\n",
       "  </tbody>\n",
       "</table>\n",
       "</div>"
      ],
      "text/plain": [
       "   Year    State Total Population Total Citizen Population Total registered  \\\n",
       "0  2000  Alabama        3,278,000                3,233,000        2,411,000   \n",
       "1  2004  Alabama        3,330,000                3,257,000        2,418,000   \n",
       "\n",
       "  Total voted  \n",
       "0   1,953,000  \n",
       "1   2,060,000  "
      ]
     },
     "execution_count": 11,
     "metadata": {},
     "output_type": "execute_result"
    }
   ],
   "source": [
    "# Read the csv file into a pandas DataFrame\n",
    "voter_to_r = pd.read_csv('../Resources/Registered_voters_by_state.csv')\n",
    "voter_to_r.head(2)"
   ]
  },
  {
   "cell_type": "code",
   "execution_count": 12,
   "metadata": {},
   "outputs": [],
   "source": [
    "voter_to_r[\"State\"] =voter_to_r.State.str.replace(' ','')"
   ]
  },
  {
   "cell_type": "code",
   "execution_count": 13,
   "metadata": {},
   "outputs": [
    {
     "data": {
      "text/plain": [
       "Year                        255\n",
       "State                       255\n",
       "Total Population            255\n",
       "Total Citizen Population    255\n",
       "Total registered            255\n",
       "Total voted                 255\n",
       "dtype: int64"
      ]
     },
     "execution_count": 13,
     "metadata": {},
     "output_type": "execute_result"
    }
   ],
   "source": [
    "voter_to_r.count()"
   ]
  },
  {
   "cell_type": "code",
   "execution_count": 14,
   "metadata": {},
   "outputs": [
    {
     "data": {
      "text/html": [
       "<div>\n",
       "<style scoped>\n",
       "    .dataframe tbody tr th:only-of-type {\n",
       "        vertical-align: middle;\n",
       "    }\n",
       "\n",
       "    .dataframe tbody tr th {\n",
       "        vertical-align: top;\n",
       "    }\n",
       "\n",
       "    .dataframe thead th {\n",
       "        text-align: right;\n",
       "    }\n",
       "</style>\n",
       "<table border=\"1\" class=\"dataframe\">\n",
       "  <thead>\n",
       "    <tr style=\"text-align: right;\">\n",
       "      <th></th>\n",
       "      <th>Year</th>\n",
       "      <th>State</th>\n",
       "      <th>Total registered</th>\n",
       "    </tr>\n",
       "  </thead>\n",
       "  <tbody>\n",
       "    <tr>\n",
       "      <th>0</th>\n",
       "      <td>2000</td>\n",
       "      <td>Alabama</td>\n",
       "      <td>2,411,000</td>\n",
       "    </tr>\n",
       "    <tr>\n",
       "      <th>1</th>\n",
       "      <td>2004</td>\n",
       "      <td>Alabama</td>\n",
       "      <td>2,418,000</td>\n",
       "    </tr>\n",
       "  </tbody>\n",
       "</table>\n",
       "</div>"
      ],
      "text/plain": [
       "   Year    State Total registered\n",
       "0  2000  Alabama        2,411,000\n",
       "1  2004  Alabama        2,418,000"
      ]
     },
     "execution_count": 14,
     "metadata": {},
     "output_type": "execute_result"
    }
   ],
   "source": [
    "# Create a filter DF with only needed columns\n",
    "voter_to_r_col = [\"Year\", \"State\",\"Total registered\"]\n",
    "voter_to_r2 = voter_to_r[voter_to_r_col].copy()\n",
    "voter_to_r2.head(2)"
   ]
  },
  {
   "cell_type": "code",
   "execution_count": 15,
   "metadata": {},
   "outputs": [
    {
     "data": {
      "text/plain": [
       "(255, 3)"
      ]
     },
     "execution_count": 15,
     "metadata": {},
     "output_type": "execute_result"
    }
   ],
   "source": [
    "voter_to_r2.shape"
   ]
  },
  {
   "cell_type": "code",
   "execution_count": 16,
   "metadata": {},
   "outputs": [
    {
     "data": {
      "text/html": [
       "<div>\n",
       "<style scoped>\n",
       "    .dataframe tbody tr th:only-of-type {\n",
       "        vertical-align: middle;\n",
       "    }\n",
       "\n",
       "    .dataframe tbody tr th {\n",
       "        vertical-align: top;\n",
       "    }\n",
       "\n",
       "    .dataframe thead th {\n",
       "        text-align: right;\n",
       "    }\n",
       "</style>\n",
       "<table border=\"1\" class=\"dataframe\">\n",
       "  <thead>\n",
       "    <tr style=\"text-align: right;\">\n",
       "      <th></th>\n",
       "      <th>Year</th>\n",
       "      <th>State</th>\n",
       "      <th>General:VEP Turnout Rate</th>\n",
       "      <th>General:Total Ballots Counted</th>\n",
       "      <th>VEP</th>\n",
       "      <th>Total registered</th>\n",
       "    </tr>\n",
       "  </thead>\n",
       "  <tbody>\n",
       "    <tr>\n",
       "      <th>0</th>\n",
       "      <td>2000</td>\n",
       "      <td>Alabama</td>\n",
       "      <td>59.00%</td>\n",
       "      <td>1,912,592</td>\n",
       "      <td>3,241,682</td>\n",
       "      <td>2,411,000</td>\n",
       "    </tr>\n",
       "    <tr>\n",
       "      <th>1</th>\n",
       "      <td>2004</td>\n",
       "      <td>Alabama</td>\n",
       "      <td>57.40%</td>\n",
       "      <td>1,890,317</td>\n",
       "      <td>3,292,608</td>\n",
       "      <td>2,418,000</td>\n",
       "    </tr>\n",
       "  </tbody>\n",
       "</table>\n",
       "</div>"
      ],
      "text/plain": [
       "   Year    State General:VEP Turnout Rate General:Total Ballots Counted  \\\n",
       "0  2000  Alabama                   59.00%                     1,912,592   \n",
       "1  2004  Alabama                   57.40%                     1,890,317   \n",
       "\n",
       "         VEP Total registered  \n",
       "0  3,241,682        2,411,000  \n",
       "1  3,292,608        2,418,000  "
      ]
     },
     "execution_count": 16,
     "metadata": {},
     "output_type": "execute_result"
    }
   ],
   "source": [
    "first_merge = pd.merge(voter_to_g3, voter_to_r2, on=('Year', 'State'), how='left')\n",
    "first_merge.reset_index()\n",
    "first_merge.head(2)"
   ]
  },
  {
   "cell_type": "code",
   "execution_count": 17,
   "metadata": {},
   "outputs": [
    {
     "data": {
      "text/plain": [
       "(255, 6)"
      ]
     },
     "execution_count": 17,
     "metadata": {},
     "output_type": "execute_result"
    }
   ],
   "source": [
    "first_merge.shape"
   ]
  },
  {
   "cell_type": "code",
   "execution_count": 18,
   "metadata": {},
   "outputs": [
    {
     "data": {
      "text/html": [
       "<div>\n",
       "<style scoped>\n",
       "    .dataframe tbody tr th:only-of-type {\n",
       "        vertical-align: middle;\n",
       "    }\n",
       "\n",
       "    .dataframe tbody tr th {\n",
       "        vertical-align: top;\n",
       "    }\n",
       "\n",
       "    .dataframe thead th {\n",
       "        text-align: right;\n",
       "    }\n",
       "</style>\n",
       "<table border=\"1\" class=\"dataframe\">\n",
       "  <thead>\n",
       "    <tr style=\"text-align: right;\">\n",
       "      <th></th>\n",
       "      <th>Year</th>\n",
       "      <th>State</th>\n",
       "      <th>General:VEP Turnout Rate</th>\n",
       "      <th>General:Total Ballots Counted</th>\n",
       "      <th>VEP</th>\n",
       "      <th>Total registered</th>\n",
       "      <th>Primary:VEP Turnout Rate</th>\n",
       "      <th>Primary:Total Ballots Counted</th>\n",
       "    </tr>\n",
       "  </thead>\n",
       "  <tbody>\n",
       "    <tr>\n",
       "      <th>0</th>\n",
       "      <td>2000</td>\n",
       "      <td>Alabama</td>\n",
       "      <td>59.00%</td>\n",
       "      <td>1,912,592</td>\n",
       "      <td>3,241,682</td>\n",
       "      <td>2,411,000</td>\n",
       "      <td>15.30%</td>\n",
       "      <td>489,573</td>\n",
       "    </tr>\n",
       "    <tr>\n",
       "      <th>1</th>\n",
       "      <td>2004</td>\n",
       "      <td>Alabama</td>\n",
       "      <td>57.40%</td>\n",
       "      <td>1,890,317</td>\n",
       "      <td>3,292,608</td>\n",
       "      <td>2,418,000</td>\n",
       "      <td>26.00%</td>\n",
       "      <td>863,695</td>\n",
       "    </tr>\n",
       "  </tbody>\n",
       "</table>\n",
       "</div>"
      ],
      "text/plain": [
       "   Year    State General:VEP Turnout Rate General:Total Ballots Counted  \\\n",
       "0  2000  Alabama                   59.00%                     1,912,592   \n",
       "1  2004  Alabama                   57.40%                     1,890,317   \n",
       "\n",
       "         VEP Total registered Primary:VEP Turnout Rate  \\\n",
       "0  3,241,682        2,411,000                   15.30%   \n",
       "1  3,292,608        2,418,000                   26.00%   \n",
       "\n",
       "  Primary:Total Ballots Counted  \n",
       "0                       489,573  \n",
       "1                       863,695  "
      ]
     },
     "execution_count": 18,
     "metadata": {},
     "output_type": "execute_result"
    }
   ],
   "source": [
    "final_merge = pd.merge(first_merge, voter_to_p3, on=('Year', 'State'), how='left')\n",
    "final_merge.reset_index()\n",
    "# final_merge.reset_index(['State', 'Year'], axis=\"columns\")\n",
    "final_merge.head(2)"
   ]
  },
  {
   "cell_type": "code",
   "execution_count": 19,
   "metadata": {},
   "outputs": [
    {
     "data": {
      "text/plain": [
       "0      2,411,000\n",
       "1      2,418,000\n",
       "2      2,438,000\n",
       "3      2,556,000\n",
       "4      2,526,000\n",
       "         ...    \n",
       "250      240,000\n",
       "251      265,000\n",
       "252      270,000\n",
       "253      268,000\n",
       "254      304,000\n",
       "Name: Total registered, Length: 255, dtype: object"
      ]
     },
     "execution_count": 19,
     "metadata": {},
     "output_type": "execute_result"
    }
   ],
   "source": [
    "final_merge[\"Total registered\"]"
   ]
  },
  {
   "cell_type": "code",
   "execution_count": 20,
   "metadata": {
    "scrolled": true
   },
   "outputs": [
    {
     "data": {
      "text/plain": [
       "Year                             255\n",
       "State                            255\n",
       "General:VEP Turnout Rate         255\n",
       "General:Total Ballots Counted    255\n",
       "VEP                              255\n",
       "Total registered                 255\n",
       "Primary:VEP Turnout Rate         255\n",
       "Primary:Total Ballots Counted    255\n",
       "dtype: int64"
      ]
     },
     "execution_count": 20,
     "metadata": {},
     "output_type": "execute_result"
    }
   ],
   "source": [
    "final_merge.count()"
   ]
  },
  {
   "cell_type": "code",
   "execution_count": 21,
   "metadata": {},
   "outputs": [
    {
     "data": {
      "text/plain": [
       "0"
      ]
     },
     "execution_count": 21,
     "metadata": {},
     "output_type": "execute_result"
    }
   ],
   "source": [
    "final_merge[\"General:VEP Turnout Rate\"].isnull().sum()"
   ]
  },
  {
   "cell_type": "code",
   "execution_count": 22,
   "metadata": {},
   "outputs": [],
   "source": [
    "final_merge.to_csv(\"Voter_final_clean.csv\", index=False)"
   ]
  }
 ],
 "metadata": {
  "kernelspec": {
   "display_name": "Python 3",
   "language": "python",
   "name": "python3"
  },
  "language_info": {
   "codemirror_mode": {
    "name": "ipython",
    "version": 3
   },
   "file_extension": ".py",
   "mimetype": "text/x-python",
   "name": "python",
   "nbconvert_exporter": "python",
   "pygments_lexer": "ipython3",
   "version": "3.7.4"
  }
 },
 "nbformat": 4,
 "nbformat_minor": 2
}
