{
 "cells": [
  {
   "cell_type": "code",
   "execution_count": 30,
   "metadata": {},
   "outputs": [],
   "source": [
    "%matplotlib inline\n",
    "import matplotlib.pyplot as plt\n",
    "import numpy as np\n",
    "import pandas as pd\n",
    "from pandas_profiling import ProfileReport\n",
    "from sklearn.preprocessing import LabelEncoder \n"
   ]
  },
  {
   "cell_type": "code",
   "execution_count": 31,
   "metadata": {},
   "outputs": [
    {
     "data": {
      "text/html": [
       "<div>\n",
       "<style scoped>\n",
       "    .dataframe tbody tr th:only-of-type {\n",
       "        vertical-align: middle;\n",
       "    }\n",
       "\n",
       "    .dataframe tbody tr th {\n",
       "        vertical-align: top;\n",
       "    }\n",
       "\n",
       "    .dataframe thead th {\n",
       "        text-align: right;\n",
       "    }\n",
       "</style>\n",
       "<table border=\"1\" class=\"dataframe\">\n",
       "  <thead>\n",
       "    <tr style=\"text-align: right;\">\n",
       "      <th></th>\n",
       "      <th>Year</th>\n",
       "      <th>State</th>\n",
       "      <th>General:Total Ballots Counted</th>\n",
       "      <th>VEP</th>\n",
       "      <th>Total registered</th>\n",
       "      <th>Primary:Total Ballots Counted</th>\n",
       "      <th>Re-election</th>\n",
       "    </tr>\n",
       "  </thead>\n",
       "  <tbody>\n",
       "    <tr>\n",
       "      <th>0</th>\n",
       "      <td>2000</td>\n",
       "      <td>0</td>\n",
       "      <td>1912592</td>\n",
       "      <td>3241682</td>\n",
       "      <td>2411000</td>\n",
       "      <td>489573</td>\n",
       "      <td>0</td>\n",
       "    </tr>\n",
       "    <tr>\n",
       "      <th>1</th>\n",
       "      <td>2004</td>\n",
       "      <td>0</td>\n",
       "      <td>1890317</td>\n",
       "      <td>3292608</td>\n",
       "      <td>2418000</td>\n",
       "      <td>863695</td>\n",
       "      <td>1</td>\n",
       "    </tr>\n",
       "  </tbody>\n",
       "</table>\n",
       "</div>"
      ],
      "text/plain": [
       "   Year  State  General:Total Ballots Counted      VEP  Total registered  \\\n",
       "0  2000      0                        1912592  3241682           2411000   \n",
       "1  2004      0                        1890317  3292608           2418000   \n",
       "\n",
       "   Primary:Total Ballots Counted  Re-election  \n",
       "0                         489573            0  \n",
       "1                         863695            1  "
      ]
     },
     "execution_count": 31,
     "metadata": {},
     "output_type": "execute_result"
    }
   ],
   "source": [
    "# Read the csv file into a pandas DataFrame\n",
    "ml_mrg2_data = pd.read_csv('ml_data.csv')\n",
    "ml_mrg2_data.head(2)"
   ]
  },
  {
   "cell_type": "code",
   "execution_count": 3,
   "metadata": {},
   "outputs": [
    {
     "name": "stdout",
     "output_type": "stream",
     "text": [
      "<class 'pandas.core.frame.DataFrame'>\n",
      "RangeIndex: 255 entries, 0 to 254\n",
      "Data columns (total 7 columns):\n",
      " #   Column                         Non-Null Count  Dtype\n",
      "---  ------                         --------------  -----\n",
      " 0   Year                           255 non-null    int64\n",
      " 1   State                          255 non-null    int64\n",
      " 2   General:Total Ballots Counted  255 non-null    int64\n",
      " 3   VEP                            255 non-null    int64\n",
      " 4   Total registered               255 non-null    int64\n",
      " 5   Primary:Total Ballots Counted  255 non-null    int64\n",
      " 6   Re-election                    255 non-null    int64\n",
      "dtypes: int64(7)\n",
      "memory usage: 14.1 KB\n"
     ]
    }
   ],
   "source": [
    "ml_mrg2_data.info()"
   ]
  },
  {
   "cell_type": "code",
   "execution_count": 7,
   "metadata": {},
   "outputs": [
    {
     "name": "stdout",
     "output_type": "stream",
     "text": [
      "(255, 4) (255, 1)\n"
     ]
    }
   ],
   "source": [
    "# Assign X (data) and y (target)\n",
    "\n",
    "### BEGIN SOLUTION\n",
    "#r = ml_mrg2_data['Re-election']\n",
    "X = ml_mrg2_data.drop(columns=['Total registered', 'General:Total Ballots Counted', 'Re-election'])\n",
    "y = (ml_mrg2_data[\"General:Total Ballots Counted\"]/1000000).values.reshape(-1, 1)\n",
    "print(X.shape, y.shape)\n",
    "#print(X.shape, y.shape, r.shape)\n",
    "### END SOLUTION"
   ]
  },
  {
   "cell_type": "code",
   "execution_count": 8,
   "metadata": {},
   "outputs": [
    {
     "data": {
      "text/html": [
       "<div>\n",
       "<style scoped>\n",
       "    .dataframe tbody tr th:only-of-type {\n",
       "        vertical-align: middle;\n",
       "    }\n",
       "\n",
       "    .dataframe tbody tr th {\n",
       "        vertical-align: top;\n",
       "    }\n",
       "\n",
       "    .dataframe thead th {\n",
       "        text-align: right;\n",
       "    }\n",
       "</style>\n",
       "<table border=\"1\" class=\"dataframe\">\n",
       "  <thead>\n",
       "    <tr style=\"text-align: right;\">\n",
       "      <th></th>\n",
       "      <th>Year</th>\n",
       "      <th>State</th>\n",
       "      <th>VEP</th>\n",
       "      <th>Primary:Total Ballots Counted</th>\n",
       "    </tr>\n",
       "  </thead>\n",
       "  <tbody>\n",
       "    <tr>\n",
       "      <th>0</th>\n",
       "      <td>2000</td>\n",
       "      <td>0</td>\n",
       "      <td>3241682</td>\n",
       "      <td>489573</td>\n",
       "    </tr>\n",
       "    <tr>\n",
       "      <th>1</th>\n",
       "      <td>2004</td>\n",
       "      <td>0</td>\n",
       "      <td>3292608</td>\n",
       "      <td>863695</td>\n",
       "    </tr>\n",
       "  </tbody>\n",
       "</table>\n",
       "</div>"
      ],
      "text/plain": [
       "   Year  State      VEP  Primary:Total Ballots Counted\n",
       "0  2000      0  3241682                         489573\n",
       "1  2004      0  3292608                         863695"
      ]
     },
     "execution_count": 8,
     "metadata": {},
     "output_type": "execute_result"
    }
   ],
   "source": [
    "X.head(2)"
   ]
  },
  {
   "cell_type": "code",
   "execution_count": 9,
   "metadata": {},
   "outputs": [],
   "source": [
    "# Split the data into training and testing\n",
    "\n",
    "### BEGIN SOLUTION\n",
    "from sklearn.model_selection import train_test_split\n",
    "\n",
    "X_train, X_test, y_train, y_test = train_test_split(X, y, random_state=42)\n",
    "### END SOLUTION"
   ]
  },
  {
   "cell_type": "code",
   "execution_count": 10,
   "metadata": {},
   "outputs": [],
   "source": [
    "from sklearn.preprocessing import StandardScaler"
   ]
  },
  {
   "cell_type": "code",
   "execution_count": 11,
   "metadata": {},
   "outputs": [
    {
     "data": {
      "text/plain": [
       "StandardScaler(copy=True, with_mean=True, with_std=True)"
      ]
     },
     "execution_count": 11,
     "metadata": {},
     "output_type": "execute_result"
    }
   ],
   "source": [
    "### BEGIN SOLUTION\n",
    "X_scaler = StandardScaler().fit(X_train[[\"VEP\",\"Primary:Total Ballots Counted\"]])\n",
    "\n",
    "### END SOLUTION\n",
    "X_scaler "
   ]
  },
  {
   "cell_type": "code",
   "execution_count": 12,
   "metadata": {},
   "outputs": [
    {
     "data": {
      "text/plain": [
       "array([[-5.16074871e-01, -4.98119942e-01],\n",
       "       [-5.23315427e-01, -5.93002082e-01],\n",
       "       [ 1.57315001e-01, -3.05908989e-01],\n",
       "       [ 1.07494758e+00,  6.44868360e-01],\n",
       "       [ 1.44318420e-01,  2.58707319e-02],\n",
       "       [ 7.81275377e-01,  1.24426859e+00],\n",
       "       [-6.48832418e-01, -5.30566238e-01],\n",
       "       [ 1.15523177e+00,  2.00141396e+00],\n",
       "       [-6.33281163e-01, -6.36475453e-01],\n",
       "       [ 1.90378327e-01,  7.25272815e-01],\n",
       "       [-1.54131430e-01, -5.77408820e-01],\n",
       "       [-7.39275386e-02, -4.43237566e-02],\n",
       "       [ 7.55488931e-01,  2.07181751e-01],\n",
       "       [-6.50248124e-01, -3.61850612e-01],\n",
       "       [-2.44026596e-01, -5.14510930e-01],\n",
       "       [-4.22961691e-02, -6.06785925e-01],\n",
       "       [-8.77867757e-01, -7.05254345e-01],\n",
       "       [-5.16104983e-01, -6.72615788e-01],\n",
       "       [ 7.43611485e-01,  5.21387460e-01],\n",
       "       [-8.91933286e-01, -7.04060469e-01],\n",
       "       [-7.79511096e-01, -6.97046059e-01],\n",
       "       [-8.14805042e-01, -4.95322085e-01],\n",
       "       [ 4.45039995e-01,  2.42241395e-01],\n",
       "       [ 2.10242736e+00,  1.26913842e+00],\n",
       "       [ 1.02311444e+00,  4.82550050e-01],\n",
       "       [-3.82485681e-01, -4.78441406e-02],\n",
       "       [-2.85761478e-01, -2.28729550e-01],\n",
       "       [ 2.57580482e+00,  2.56851519e+00],\n",
       "       [ 2.90409204e-02, -4.19765232e-01],\n",
       "       [-4.11462483e-01, -6.14622093e-01],\n",
       "       [-2.51686144e-02,  5.75650416e-02],\n",
       "       [-8.59491542e-01, -6.84492530e-01],\n",
       "       [-1.13639233e-01, -6.65246317e-01],\n",
       "       [-8.88717837e-01, -6.14796523e-01],\n",
       "       [ 7.35602854e-01,  4.18188499e-01],\n",
       "       [ 4.32791852e+00,  6.32775740e+00],\n",
       "       [-2.36917303e-02, -1.38291884e-01],\n",
       "       [-2.00685782e-01, -4.55167535e-01],\n",
       "       [-8.63243258e-01, -7.07635120e-01],\n",
       "       [-9.05801898e-01, -7.10932234e-01],\n",
       "       [ 4.12665643e-01, -1.05454090e-01],\n",
       "       [ 2.32197568e-01, -8.29409972e-02],\n",
       "       [-7.60452121e-01, -6.71380049e-01],\n",
       "       [-7.63527768e-01, -4.93457623e-01],\n",
       "       [-5.53963880e-01, -5.12989901e-01],\n",
       "       [-4.76762031e-01, -6.13052224e-01],\n",
       "       [-8.91925878e-01, -6.85780210e-01],\n",
       "       [-4.25831817e-02, -4.67305534e-01],\n",
       "       [-6.97171697e-01, -5.54622066e-01],\n",
       "       [-4.53973326e-01, -6.02973274e-01],\n",
       "       [ 3.46612596e-01, -5.29746805e-01],\n",
       "       [-2.29119147e-01, -6.26680242e-01],\n",
       "       [-3.45191074e-02,  5.08762344e-02],\n",
       "       [ 6.68316680e-01,  9.75672824e-01],\n",
       "       [-6.92545625e-02, -6.78511520e-01],\n",
       "       [ 1.26814864e+00,  1.75127289e+00],\n",
       "       [-6.70399468e-01, -6.47805647e-01],\n",
       "       [-2.17400860e-01, -3.36894726e-01],\n",
       "       [-1.66539646e-01,  1.27679680e-01],\n",
       "       [-4.62493849e-01, -4.41457341e-01],\n",
       "       [ 1.83069788e+00,  1.18173972e+00],\n",
       "       [-1.19910016e-01, -2.30293482e-02],\n",
       "       [-1.05654499e-01,  1.50652492e-01],\n",
       "       [-6.42104709e-01, -4.61539267e-01],\n",
       "       [-3.43680191e-01, -4.06882999e-01],\n",
       "       [-8.90492010e-01, -7.15419348e-01],\n",
       "       [-7.42118683e-01, -7.11926097e-01],\n",
       "       [-8.52333195e-01, -6.90624712e-01],\n",
       "       [-7.65980160e-01, -6.11734309e-01],\n",
       "       [-8.04252012e-01, -5.73732612e-01],\n",
       "       [-5.86586292e-01, -5.90941483e-01],\n",
       "       [-1.03797162e-01, -5.31194961e-01],\n",
       "       [ 3.19461762e-02,  9.22079416e-01],\n",
       "       [-6.58348045e-01, -4.21484724e-01],\n",
       "       [-1.83638763e-01, -5.72702312e-01],\n",
       "       [ 2.19351305e-01,  5.10165536e-02],\n",
       "       [-1.29513109e-01,  2.60801517e-01],\n",
       "       [-4.87048123e-01, -2.68777892e-01],\n",
       "       [-4.01557322e-01, -3.23255854e-01],\n",
       "       [-7.54971399e-01, -3.05777973e-01],\n",
       "       [-3.66179255e-01, -1.33247370e-01],\n",
       "       [-6.77377865e-01, -5.23042493e-01],\n",
       "       [-7.46083806e-01, -5.74852840e-01],\n",
       "       [-6.99539969e-01, -5.39934289e-01],\n",
       "       [ 6.72876795e-02, -4.63364192e-01],\n",
       "       [ 2.69032684e-01, -4.09511852e-01],\n",
       "       [ 1.31438850e+00,  3.87682639e-01],\n",
       "       [ 6.53643844e-02,  3.34277615e-01],\n",
       "       [-8.13564030e-01, -6.07778237e-01],\n",
       "       [-7.13274514e-01, -5.21785047e-01],\n",
       "       [-8.68958656e-01, -6.36380098e-01],\n",
       "       [ 3.80655732e-01,  6.82927425e-01],\n",
       "       [-6.85538486e-01, -5.25784532e-01],\n",
       "       [-8.92510418e-01, -6.97071642e-01],\n",
       "       [-4.74268057e-01, -4.91662932e-01],\n",
       "       [ 4.22223808e-01, -3.17075607e-01],\n",
       "       [ 4.66734689e+00,  3.41429734e+00],\n",
       "       [-8.76742410e-01, -5.63931199e-01],\n",
       "       [ 2.12252828e+00,  7.67110420e-01],\n",
       "       [-5.31159403e-01, -6.66140173e-01],\n",
       "       [-8.26785728e-01, -5.89656128e-01],\n",
       "       [ 1.39728370e-01, -2.30178482e-01],\n",
       "       [ 2.03991979e+00,  2.59277569e+00],\n",
       "       [-1.83286031e-01, -2.41195477e-01],\n",
       "       [ 1.32388262e+00,  1.82319074e+00],\n",
       "       [ 2.05202379e+00,  8.59007871e-01],\n",
       "       [-8.77960003e-01, -6.66547176e-01],\n",
       "       [-7.79252522e-01, -4.09138184e-01],\n",
       "       [ 9.90372540e-01,  1.24229094e+00],\n",
       "       [-1.46296535e-01, -4.11762650e-02],\n",
       "       [ 8.73845360e-02,  1.26999015e-01],\n",
       "       [ 5.86742251e-01,  8.89089409e-02],\n",
       "       [-8.07008863e-01, -5.31327528e-01],\n",
       "       [ 3.35530469e-01,  4.27404603e-01],\n",
       "       [-8.09606076e-01, -5.49082946e-01],\n",
       "       [ 9.79260954e-02,  3.58598577e-01],\n",
       "       [ 2.49724223e+00,  2.43957657e+00],\n",
       "       [ 2.19207709e+00, -5.73046521e-01],\n",
       "       [-5.31353931e-01, -6.67817802e-01],\n",
       "       [-3.74868495e-01, -2.96040905e-01],\n",
       "       [-6.52018473e-01, -3.70209296e-01],\n",
       "       [-8.77518610e-01, -6.98121323e-01],\n",
       "       [-8.76731656e-01, -7.05921055e-01],\n",
       "       [ 6.97650754e-01,  3.65233117e-01],\n",
       "       [-2.31481445e-01, -3.88539945e-01],\n",
       "       [-5.06802285e-01, -6.93286900e-01],\n",
       "       [-8.74190602e-01, -6.36378547e-01],\n",
       "       [ 4.02267709e-01, -5.10551758e-01],\n",
       "       [-2.07665374e-01, -1.85980258e-01],\n",
       "       [-8.69784565e-01, -7.05475290e-01],\n",
       "       [ 5.65200469e-02, -3.19654069e-01],\n",
       "       [-7.50040326e-01, -6.79924791e-01],\n",
       "       [-6.49954420e-01, -5.05600273e-01],\n",
       "       [-8.25018724e-01, -5.26814056e-01],\n",
       "       [-4.97033581e-01, -2.94568717e-01],\n",
       "       [ 4.55104555e-01,  7.75276068e-01],\n",
       "       [ 1.19877660e-01,  6.21600180e-01],\n",
       "       [-8.82359110e-01, -5.96465874e-01],\n",
       "       [-7.99893531e-01, -4.96834587e-01],\n",
       "       [-8.45552671e-01, -6.45315563e-01],\n",
       "       [-1.27491658e-02, -4.45317282e-01],\n",
       "       [-7.31268603e-01, -6.81801657e-01],\n",
       "       [ 6.71186568e-01,  8.81600038e-01],\n",
       "       [ 1.10206459e-01,  6.54358125e-01],\n",
       "       [ 3.55665084e-01,  2.69790673e-03],\n",
       "       [ 4.23118478e-02, -3.53791949e-01],\n",
       "       [-8.56642924e-01, -7.13332390e-01],\n",
       "       [ 9.84109818e-02,  1.97253198e-01],\n",
       "       [-2.69380491e-01,  1.15562613e-01],\n",
       "       [-9.03482138e-01, -7.10584149e-01],\n",
       "       [-8.50922507e-01, -5.85928754e-01],\n",
       "       [-8.79591744e-01, -5.90937607e-01],\n",
       "       [ 7.64994521e-01,  1.06528330e+00],\n",
       "       [-7.57199630e-01, -7.08504169e-01],\n",
       "       [ 2.86022761e+00,  8.64786542e-01],\n",
       "       [ 2.23293039e+00,  5.83012399e-01],\n",
       "       [-2.20387368e-01, -3.94445756e-01],\n",
       "       [ 4.05811927e+00,  4.38863591e+00],\n",
       "       [-7.69826034e-01, -6.96601844e-01],\n",
       "       [-1.58813965e-01, -2.46927633e-01],\n",
       "       [ 1.96650598e+00,  1.71520930e+00],\n",
       "       [-7.33631364e-03,  4.65317921e-01],\n",
       "       [-3.46772806e-01,  1.91010156e-01],\n",
       "       [ 1.21175461e+00,  1.22977307e+00],\n",
       "       [ 8.75931638e-02,  5.02404830e-01],\n",
       "       [-8.41965611e-01, -6.02799619e-01],\n",
       "       [-6.66453224e-01, -5.11584383e-01],\n",
       "       [-6.59824929e-01, -4.26022228e-01],\n",
       "       [-2.05230666e-01, -4.68588052e-02],\n",
       "       [ 5.09137724e-01,  8.52964842e-01],\n",
       "       [-7.42886519e-01, -2.95895159e-01],\n",
       "       [-8.32567801e-01, -5.35019241e-01],\n",
       "       [ 3.61288954e-01, -4.68611309e-02],\n",
       "       [-2.09848263e-02, -2.53827307e-01],\n",
       "       [-7.39163959e-01, -6.66313828e-01],\n",
       "       [-1.29575721e-01, -5.67008143e-01],\n",
       "       [-2.38682570e-01, -1.30467921e-03],\n",
       "       [-2.00824867e-01,  4.14841506e-02],\n",
       "       [ 1.66936734e-01,  6.39718413e-01],\n",
       "       [ 1.81153297e-01,  2.39404777e-01],\n",
       "       [ 2.77293452e-03, -3.55174209e-01],\n",
       "       [-4.97702002e-01, -3.19092792e-01],\n",
       "       [-8.89407050e-01, -7.09791075e-01],\n",
       "       [ 3.71225236e+00,  5.39511534e+00],\n",
       "       [-3.14325804e-01, -2.40192311e-01],\n",
       "       [ 8.43275292e-02,  3.62093378e-01],\n",
       "       [ 9.14010396e-02, -1.76371881e-01],\n",
       "       [ 1.40738291e-01,  1.32545113e-01],\n",
       "       [-2.25977303e-01, -2.93526013e-01],\n",
       "       [ 1.09581347e+00,  1.82496683e+00],\n",
       "       [-5.40749177e-02,  2.32712093e-01]])"
      ]
     },
     "execution_count": 12,
     "metadata": {},
     "output_type": "execute_result"
    }
   ],
   "source": [
    "# Transform the training and testing data using the X_scaler and y_scaler models\n",
    "\n",
    "### BEGIN SOLUTION\n",
    "X_train_scaled = X_scaler.transform(X_train[[\"VEP\",\"Primary:Total Ballots Counted\"]])\n",
    "X_test_scaled = X_scaler.transform(X_test[[\"VEP\",\"Primary:Total Ballots Counted\"]])\n",
    "\n",
    "### END SOLUTION\n",
    "X_train_scaled"
   ]
  },
  {
   "cell_type": "code",
   "execution_count": 14,
   "metadata": {},
   "outputs": [
    {
     "name": "stderr",
     "output_type": "stream",
     "text": [
      "C:\\Users\\VEA\\Anaconda3\\envs\\PythonData\\lib\\site-packages\\ipykernel_launcher.py:1: SettingWithCopyWarning: \n",
      "A value is trying to be set on a copy of a slice from a DataFrame.\n",
      "Try using .loc[row_indexer,col_indexer] = value instead\n",
      "\n",
      "See the caveats in the documentation: https://pandas.pydata.org/pandas-docs/stable/user_guide/indexing.html#returning-a-view-versus-a-copy\n",
      "  \"\"\"Entry point for launching an IPython kernel.\n",
      "C:\\Users\\VEA\\Anaconda3\\envs\\PythonData\\lib\\site-packages\\pandas\\core\\indexing.py:966: SettingWithCopyWarning: \n",
      "A value is trying to be set on a copy of a slice from a DataFrame.\n",
      "Try using .loc[row_indexer,col_indexer] = value instead\n",
      "\n",
      "See the caveats in the documentation: https://pandas.pydata.org/pandas-docs/stable/user_guide/indexing.html#returning-a-view-versus-a-copy\n",
      "  self.obj[item] = s\n",
      "C:\\Users\\VEA\\Anaconda3\\envs\\PythonData\\lib\\site-packages\\ipykernel_launcher.py:2: SettingWithCopyWarning: \n",
      "A value is trying to be set on a copy of a slice from a DataFrame.\n",
      "Try using .loc[row_indexer,col_indexer] = value instead\n",
      "\n",
      "See the caveats in the documentation: https://pandas.pydata.org/pandas-docs/stable/user_guide/indexing.html#returning-a-view-versus-a-copy\n",
      "  \n"
     ]
    }
   ],
   "source": [
    "X_train[[\"VEP\",\"Primary:Total Ballots Counted\"]] = X_train_scaled\n",
    "X_test[[\"VEP\",\"Primary:Total Ballots Counted\"]] = X_test_scaled"
   ]
  },
  {
   "cell_type": "code",
   "execution_count": 15,
   "metadata": {},
   "outputs": [
    {
     "data": {
      "text/html": [
       "<div>\n",
       "<style scoped>\n",
       "    .dataframe tbody tr th:only-of-type {\n",
       "        vertical-align: middle;\n",
       "    }\n",
       "\n",
       "    .dataframe tbody tr th {\n",
       "        vertical-align: top;\n",
       "    }\n",
       "\n",
       "    .dataframe thead th {\n",
       "        text-align: right;\n",
       "    }\n",
       "</style>\n",
       "<table border=\"1\" class=\"dataframe\">\n",
       "  <thead>\n",
       "    <tr style=\"text-align: right;\">\n",
       "      <th></th>\n",
       "      <th>Year</th>\n",
       "      <th>State</th>\n",
       "      <th>VEP</th>\n",
       "      <th>Primary:Total Ballots Counted</th>\n",
       "    </tr>\n",
       "  </thead>\n",
       "  <tbody>\n",
       "    <tr>\n",
       "      <th>190</th>\n",
       "      <td>2000</td>\n",
       "      <td>38</td>\n",
       "      <td>1.179477</td>\n",
       "      <td>1.190641</td>\n",
       "    </tr>\n",
       "    <tr>\n",
       "      <th>6</th>\n",
       "      <td>2004</td>\n",
       "      <td>1</td>\n",
       "      <td>-0.884044</td>\n",
       "      <td>-0.702975</td>\n",
       "    </tr>\n",
       "    <tr>\n",
       "      <th>79</th>\n",
       "      <td>2016</td>\n",
       "      <td>15</td>\n",
       "      <td>-0.445182</td>\n",
       "      <td>-0.438909</td>\n",
       "    </tr>\n",
       "    <tr>\n",
       "      <th>205</th>\n",
       "      <td>2000</td>\n",
       "      <td>41</td>\n",
       "      <td>-0.861013</td>\n",
       "      <td>-0.627641</td>\n",
       "    </tr>\n",
       "    <tr>\n",
       "      <th>117</th>\n",
       "      <td>2008</td>\n",
       "      <td>23</td>\n",
       "      <td>-0.098280</td>\n",
       "      <td>-0.501564</td>\n",
       "    </tr>\n",
       "    <tr>\n",
       "      <th>...</th>\n",
       "      <td>...</td>\n",
       "      <td>...</td>\n",
       "      <td>...</td>\n",
       "      <td>...</td>\n",
       "    </tr>\n",
       "    <tr>\n",
       "      <th>60</th>\n",
       "      <td>2000</td>\n",
       "      <td>12</td>\n",
       "      <td>-0.782411</td>\n",
       "      <td>-0.620767</td>\n",
       "    </tr>\n",
       "    <tr>\n",
       "      <th>101</th>\n",
       "      <td>2004</td>\n",
       "      <td>20</td>\n",
       "      <td>-0.084629</td>\n",
       "      <td>-0.221108</td>\n",
       "    </tr>\n",
       "    <tr>\n",
       "      <th>172</th>\n",
       "      <td>2008</td>\n",
       "      <td>34</td>\n",
       "      <td>-0.871465</td>\n",
       "      <td>-0.694039</td>\n",
       "    </tr>\n",
       "    <tr>\n",
       "      <th>248</th>\n",
       "      <td>2012</td>\n",
       "      <td>49</td>\n",
       "      <td>0.013855</td>\n",
       "      <td>0.127111</td>\n",
       "    </tr>\n",
       "    <tr>\n",
       "      <th>126</th>\n",
       "      <td>2004</td>\n",
       "      <td>25</td>\n",
       "      <td>0.007066</td>\n",
       "      <td>-0.295172</td>\n",
       "    </tr>\n",
       "  </tbody>\n",
       "</table>\n",
       "<p>64 rows × 4 columns</p>\n",
       "</div>"
      ],
      "text/plain": [
       "     Year  State       VEP  Primary:Total Ballots Counted\n",
       "190  2000     38  1.179477                       1.190641\n",
       "6    2004      1 -0.884044                      -0.702975\n",
       "79   2016     15 -0.445182                      -0.438909\n",
       "205  2000     41 -0.861013                      -0.627641\n",
       "117  2008     23 -0.098280                      -0.501564\n",
       "..    ...    ...       ...                            ...\n",
       "60   2000     12 -0.782411                      -0.620767\n",
       "101  2004     20 -0.084629                      -0.221108\n",
       "172  2008     34 -0.871465                      -0.694039\n",
       "248  2012     49  0.013855                       0.127111\n",
       "126  2004     25  0.007066                      -0.295172\n",
       "\n",
       "[64 rows x 4 columns]"
      ]
     },
     "execution_count": 15,
     "metadata": {},
     "output_type": "execute_result"
    }
   ],
   "source": [
    "X_test"
   ]
  },
  {
   "cell_type": "code",
   "execution_count": 16,
   "metadata": {},
   "outputs": [
    {
     "data": {
      "text/plain": [
       "LinearRegression(copy_X=True, fit_intercept=True, n_jobs=None, normalize=False)"
      ]
     },
     "execution_count": 16,
     "metadata": {},
     "output_type": "execute_result"
    }
   ],
   "source": [
    "# Create a LinearRegression model and fit it to the scaled training data\n",
    "\n",
    "### BEGIN SOLUTION\n",
    "from sklearn.linear_model import LinearRegression\n",
    "model = LinearRegression()\n",
    "model.fit(X_train, y_train)\n",
    "### END SOLUTION"
   ]
  },
  {
   "cell_type": "code",
   "execution_count": 17,
   "metadata": {},
   "outputs": [
    {
     "name": "stdout",
     "output_type": "stream",
     "text": [
      "MSE: 0.09766850927878967, R2: 0.9853808194034838\n"
     ]
    }
   ],
   "source": [
    "# Used X_test_scaled, y_test_scaled, and model.predict(X_test_scaled) to calculate MSE and R2\n",
    "\n",
    "### BEGIN SOLUTION\n",
    "from sklearn.metrics import mean_squared_error\n",
    "\n",
    "predictions = model.predict(X_test)\n",
    "\n",
    "MSE = mean_squared_error(y_test, predictions)\n",
    "r2 = model.score(X_test, y_test)\n",
    "### END SOLUTION\n",
    "\n",
    "print(f\"MSE: {MSE}, R2: {r2}\")"
   ]
  },
  {
   "cell_type": "code",
   "execution_count": 18,
   "metadata": {},
   "outputs": [
    {
     "data": {
      "image/png": "[encoded data removed]",
      "text/plain": [
       "<Figure size 432x288 with 1 Axes>"
      ]
     },
     "metadata": {
      "needs_background": "light"
     },
     "output_type": "display_data"
    }
   ],
   "source": [
    "# Make predictions using a fitted model\n",
    "# Plot the difference between the model predicted values and actual y values, versus the model predicted values\n",
    "# Hint: You can predict values of X training and testing data using the model.predict() method on a fitted model\n",
    "\n",
    "%matplotlib inline\n",
    "### BEGIN SOLUTION\n",
    "predictions = model.predict(X_test)\n",
    "plt.scatter(model.predict(X_train), model.predict(X_train) - y_train, c=\"blue\", label=\"Training Data\")\n",
    "plt.scatter(model.predict(X_test), model.predict(X_test) - y_test, c=\"orange\", label=\"Testing Data\")\n",
    "plt.legend()\n",
    "plt.hlines(y=0, xmin=y_test.min(), xmax=y_test.max())\n",
    "plt.title(\"Residual Plot -ML2\")\n",
    "plt.show()\n",
    "### END SOLUTION"
   ]
  },
  {
   "cell_type": "code",
   "execution_count": 19,
   "metadata": {},
   "outputs": [],
   "source": [
    "X_test_predict = X_test"
   ]
  },
  {
   "cell_type": "code",
   "execution_count": 20,
   "metadata": {
    "scrolled": true
   },
   "outputs": [
    {
     "name": "stderr",
     "output_type": "stream",
     "text": [
      "C:\\Users\\VEA\\Anaconda3\\envs\\PythonData\\lib\\site-packages\\ipykernel_launcher.py:1: SettingWithCopyWarning: \n",
      "A value is trying to be set on a copy of a slice from a DataFrame.\n",
      "Try using .loc[row_indexer,col_indexer] = value instead\n",
      "\n",
      "See the caveats in the documentation: https://pandas.pydata.org/pandas-docs/stable/user_guide/indexing.html#returning-a-view-versus-a-copy\n",
      "  \"\"\"Entry point for launching an IPython kernel.\n"
     ]
    }
   ],
   "source": [
    "X_test_predict[\"Predictions\"] = model.predict(X_test)"
   ]
  },
  {
   "cell_type": "code",
   "execution_count": 21,
   "metadata": {},
   "outputs": [
    {
     "name": "stderr",
     "output_type": "stream",
     "text": [
      "C:\\Users\\VEA\\Anaconda3\\envs\\PythonData\\lib\\site-packages\\ipykernel_launcher.py:1: SettingWithCopyWarning: \n",
      "A value is trying to be set on a copy of a slice from a DataFrame.\n",
      "Try using .loc[row_indexer,col_indexer] = value instead\n",
      "\n",
      "See the caveats in the documentation: https://pandas.pydata.org/pandas-docs/stable/user_guide/indexing.html#returning-a-view-versus-a-copy\n",
      "  \"\"\"Entry point for launching an IPython kernel.\n"
     ]
    }
   ],
   "source": [
    "X_test_predict[\"Actuals\"] = y_test"
   ]
  },
  {
   "cell_type": "code",
   "execution_count": 22,
   "metadata": {
    "scrolled": true
   },
   "outputs": [
    {
     "name": "stderr",
     "output_type": "stream",
     "text": [
      "C:\\Users\\VEA\\Anaconda3\\envs\\PythonData\\lib\\site-packages\\ipykernel_launcher.py:1: SettingWithCopyWarning: \n",
      "A value is trying to be set on a copy of a slice from a DataFrame.\n",
      "Try using .loc[row_indexer,col_indexer] = value instead\n",
      "\n",
      "See the caveats in the documentation: https://pandas.pydata.org/pandas-docs/stable/user_guide/indexing.html#returning-a-view-versus-a-copy\n",
      "  \"\"\"Entry point for launching an IPython kernel.\n"
     ]
    }
   ],
   "source": [
    "X_test_predict[\"Residual Testing\"] = X_test_predict[\"Predictions\"]-X_test_predict[\"Actuals\"] "
   ]
  },
  {
   "cell_type": "code",
   "execution_count": 23,
   "metadata": {},
   "outputs": [
    {
     "data": {
      "text/html": [
       "<div>\n",
       "<style scoped>\n",
       "    .dataframe tbody tr th:only-of-type {\n",
       "        vertical-align: middle;\n",
       "    }\n",
       "\n",
       "    .dataframe tbody tr th {\n",
       "        vertical-align: top;\n",
       "    }\n",
       "\n",
       "    .dataframe thead th {\n",
       "        text-align: right;\n",
       "    }\n",
       "</style>\n",
       "<table border=\"1\" class=\"dataframe\">\n",
       "  <thead>\n",
       "    <tr style=\"text-align: right;\">\n",
       "      <th></th>\n",
       "      <th>Year</th>\n",
       "      <th>State</th>\n",
       "      <th>VEP</th>\n",
       "      <th>Primary:Total Ballots Counted</th>\n",
       "    </tr>\n",
       "  </thead>\n",
       "  <tbody>\n",
       "    <tr>\n",
       "      <th>224</th>\n",
       "      <td>2016</td>\n",
       "      <td>44</td>\n",
       "      <td>-0.516075</td>\n",
       "      <td>-0.498120</td>\n",
       "    </tr>\n",
       "    <tr>\n",
       "      <th>144</th>\n",
       "      <td>2016</td>\n",
       "      <td>28</td>\n",
       "      <td>-0.523315</td>\n",
       "      <td>-0.593002</td>\n",
       "    </tr>\n",
       "    <tr>\n",
       "      <th>108</th>\n",
       "      <td>2012</td>\n",
       "      <td>21</td>\n",
       "      <td>0.157315</td>\n",
       "      <td>-0.305909</td>\n",
       "    </tr>\n",
       "    <tr>\n",
       "      <th>178</th>\n",
       "      <td>2012</td>\n",
       "      <td>35</td>\n",
       "      <td>1.074948</td>\n",
       "      <td>0.644868</td>\n",
       "    </tr>\n",
       "    <tr>\n",
       "      <th>73</th>\n",
       "      <td>2012</td>\n",
       "      <td>14</td>\n",
       "      <td>0.144318</td>\n",
       "      <td>0.025871</td>\n",
       "    </tr>\n",
       "    <tr>\n",
       "      <th>...</th>\n",
       "      <td>...</td>\n",
       "      <td>...</td>\n",
       "      <td>...</td>\n",
       "      <td>...</td>\n",
       "    </tr>\n",
       "    <tr>\n",
       "      <th>106</th>\n",
       "      <td>2004</td>\n",
       "      <td>21</td>\n",
       "      <td>0.091401</td>\n",
       "      <td>-0.176372</td>\n",
       "    </tr>\n",
       "    <tr>\n",
       "      <th>14</th>\n",
       "      <td>2016</td>\n",
       "      <td>2</td>\n",
       "      <td>0.140738</td>\n",
       "      <td>0.132545</td>\n",
       "    </tr>\n",
       "    <tr>\n",
       "      <th>92</th>\n",
       "      <td>2008</td>\n",
       "      <td>18</td>\n",
       "      <td>-0.225977</td>\n",
       "      <td>-0.293526</td>\n",
       "    </tr>\n",
       "    <tr>\n",
       "      <th>179</th>\n",
       "      <td>2016</td>\n",
       "      <td>35</td>\n",
       "      <td>1.095813</td>\n",
       "      <td>1.824967</td>\n",
       "    </tr>\n",
       "    <tr>\n",
       "      <th>102</th>\n",
       "      <td>2008</td>\n",
       "      <td>20</td>\n",
       "      <td>-0.054075</td>\n",
       "      <td>0.232712</td>\n",
       "    </tr>\n",
       "  </tbody>\n",
       "</table>\n",
       "<p>191 rows × 4 columns</p>\n",
       "</div>"
      ],
      "text/plain": [
       "     Year  State       VEP  Primary:Total Ballots Counted\n",
       "224  2016     44 -0.516075                      -0.498120\n",
       "144  2016     28 -0.523315                      -0.593002\n",
       "108  2012     21  0.157315                      -0.305909\n",
       "178  2012     35  1.074948                       0.644868\n",
       "73   2012     14  0.144318                       0.025871\n",
       "..    ...    ...       ...                            ...\n",
       "106  2004     21  0.091401                      -0.176372\n",
       "14   2016      2  0.140738                       0.132545\n",
       "92   2008     18 -0.225977                      -0.293526\n",
       "179  2016     35  1.095813                       1.824967\n",
       "102  2008     20 -0.054075                       0.232712\n",
       "\n",
       "[191 rows x 4 columns]"
      ]
     },
     "execution_count": 23,
     "metadata": {},
     "output_type": "execute_result"
    }
   ],
   "source": [
    "X_test_training = X_train\n",
    "X_test_training"
   ]
  },
  {
   "cell_type": "code",
   "execution_count": 24,
   "metadata": {
    "scrolled": false
   },
   "outputs": [
    {
     "name": "stderr",
     "output_type": "stream",
     "text": [
      "C:\\Users\\VEA\\Anaconda3\\envs\\PythonData\\lib\\site-packages\\ipykernel_launcher.py:1: SettingWithCopyWarning: \n",
      "A value is trying to be set on a copy of a slice from a DataFrame.\n",
      "Try using .loc[row_indexer,col_indexer] = value instead\n",
      "\n",
      "See the caveats in the documentation: https://pandas.pydata.org/pandas-docs/stable/user_guide/indexing.html#returning-a-view-versus-a-copy\n",
      "  \"\"\"Entry point for launching an IPython kernel.\n"
     ]
    },
    {
     "data": {
      "text/html": [
       "<div>\n",
       "<style scoped>\n",
       "    .dataframe tbody tr th:only-of-type {\n",
       "        vertical-align: middle;\n",
       "    }\n",
       "\n",
       "    .dataframe tbody tr th {\n",
       "        vertical-align: top;\n",
       "    }\n",
       "\n",
       "    .dataframe thead th {\n",
       "        text-align: right;\n",
       "    }\n",
       "</style>\n",
       "<table border=\"1\" class=\"dataframe\">\n",
       "  <thead>\n",
       "    <tr style=\"text-align: right;\">\n",
       "      <th></th>\n",
       "      <th>Year</th>\n",
       "      <th>State</th>\n",
       "      <th>VEP</th>\n",
       "      <th>Primary:Total Ballots Counted</th>\n",
       "      <th>Residual Training</th>\n",
       "    </tr>\n",
       "  </thead>\n",
       "  <tbody>\n",
       "    <tr>\n",
       "      <th>224</th>\n",
       "      <td>2016</td>\n",
       "      <td>44</td>\n",
       "      <td>-0.516075</td>\n",
       "      <td>-0.498120</td>\n",
       "      <td>0.134093</td>\n",
       "    </tr>\n",
       "    <tr>\n",
       "      <th>144</th>\n",
       "      <td>2016</td>\n",
       "      <td>28</td>\n",
       "      <td>-0.523315</td>\n",
       "      <td>-0.593002</td>\n",
       "      <td>0.141858</td>\n",
       "    </tr>\n",
       "  </tbody>\n",
       "</table>\n",
       "</div>"
      ],
      "text/plain": [
       "     Year  State       VEP  Primary:Total Ballots Counted  Residual Training\n",
       "224  2016     44 -0.516075                      -0.498120           0.134093\n",
       "144  2016     28 -0.523315                      -0.593002           0.141858"
      ]
     },
     "execution_count": 24,
     "metadata": {},
     "output_type": "execute_result"
    }
   ],
   "source": [
    "X_test_training[\"Residual Training\"] = model.predict(X_train) - y_train\n",
    "X_test_training.head(2)"
   ]
  },
  {
   "cell_type": "code",
   "execution_count": 25,
   "metadata": {},
   "outputs": [
    {
     "data": {
      "text/html": [
       "<div>\n",
       "<style scoped>\n",
       "    .dataframe tbody tr th:only-of-type {\n",
       "        vertical-align: middle;\n",
       "    }\n",
       "\n",
       "    .dataframe tbody tr th {\n",
       "        vertical-align: top;\n",
       "    }\n",
       "\n",
       "    .dataframe thead th {\n",
       "        text-align: right;\n",
       "    }\n",
       "</style>\n",
       "<table border=\"1\" class=\"dataframe\">\n",
       "  <thead>\n",
       "    <tr style=\"text-align: right;\">\n",
       "      <th></th>\n",
       "      <th>Year</th>\n",
       "      <th>State</th>\n",
       "      <th>VEP</th>\n",
       "      <th>Primary:Total Ballots Counted</th>\n",
       "      <th>Residual Training</th>\n",
       "    </tr>\n",
       "  </thead>\n",
       "  <tbody>\n",
       "    <tr>\n",
       "      <th>128</th>\n",
       "      <td>2012</td>\n",
       "      <td>25</td>\n",
       "      <td>0.067288</td>\n",
       "      <td>-0.463364</td>\n",
       "      <td>1.788966</td>\n",
       "    </tr>\n",
       "    <tr>\n",
       "      <th>218</th>\n",
       "      <td>2012</td>\n",
       "      <td>43</td>\n",
       "      <td>2.860228</td>\n",
       "      <td>0.864787</td>\n",
       "      <td>1.270198</td>\n",
       "    </tr>\n",
       "    <tr>\n",
       "      <th>215</th>\n",
       "      <td>2000</td>\n",
       "      <td>43</td>\n",
       "      <td>2.122528</td>\n",
       "      <td>0.767110</td>\n",
       "      <td>1.037093</td>\n",
       "    </tr>\n",
       "    <tr>\n",
       "      <th>20</th>\n",
       "      <td>2000</td>\n",
       "      <td>4</td>\n",
       "      <td>3.712252</td>\n",
       "      <td>5.395115</td>\n",
       "      <td>0.809422</td>\n",
       "    </tr>\n",
       "    <tr>\n",
       "      <th>217</th>\n",
       "      <td>2008</td>\n",
       "      <td>43</td>\n",
       "      <td>2.575805</td>\n",
       "      <td>2.568515</td>\n",
       "      <td>0.796403</td>\n",
       "    </tr>\n",
       "  </tbody>\n",
       "</table>\n",
       "</div>"
      ],
      "text/plain": [
       "     Year  State       VEP  Primary:Total Ballots Counted  Residual Training\n",
       "128  2012     25  0.067288                      -0.463364           1.788966\n",
       "218  2012     43  2.860228                       0.864787           1.270198\n",
       "215  2000     43  2.122528                       0.767110           1.037093\n",
       "20   2000      4  3.712252                       5.395115           0.809422\n",
       "217  2008     43  2.575805                       2.568515           0.796403"
      ]
     },
     "execution_count": 25,
     "metadata": {},
     "output_type": "execute_result"
    }
   ],
   "source": [
    "X_test_training_sort = X_test_training.sort_values(by=[\"Residual Training\"], ascending=False)\n",
    "X_test_training_sort.head(5)"
   ]
  },
  {
   "cell_type": "code",
   "execution_count": 26,
   "metadata": {},
   "outputs": [
    {
     "data": {
      "text/html": [
       "<div>\n",
       "<style scoped>\n",
       "    .dataframe tbody tr th:only-of-type {\n",
       "        vertical-align: middle;\n",
       "    }\n",
       "\n",
       "    .dataframe tbody tr th {\n",
       "        vertical-align: top;\n",
       "    }\n",
       "\n",
       "    .dataframe thead th {\n",
       "        text-align: right;\n",
       "    }\n",
       "</style>\n",
       "<table border=\"1\" class=\"dataframe\">\n",
       "  <thead>\n",
       "    <tr style=\"text-align: right;\">\n",
       "      <th></th>\n",
       "      <th>Year</th>\n",
       "      <th>State</th>\n",
       "      <th>VEP</th>\n",
       "      <th>Primary:Total Ballots Counted</th>\n",
       "      <th>Predictions</th>\n",
       "      <th>Actuals</th>\n",
       "      <th>Residual Testing</th>\n",
       "    </tr>\n",
       "  </thead>\n",
       "  <tbody>\n",
       "    <tr>\n",
       "      <th>219</th>\n",
       "      <td>2016</td>\n",
       "      <td>43</td>\n",
       "      <td>3.177814</td>\n",
       "      <td>2.595707</td>\n",
       "      <td>10.334098</td>\n",
       "      <td>8.975000</td>\n",
       "      <td>1.359098</td>\n",
       "    </tr>\n",
       "    <tr>\n",
       "      <th>24</th>\n",
       "      <td>2016</td>\n",
       "      <td>4</td>\n",
       "      <td>5.007414</td>\n",
       "      <td>5.910588</td>\n",
       "      <td>15.162928</td>\n",
       "      <td>14.610509</td>\n",
       "      <td>0.552419</td>\n",
       "    </tr>\n",
       "    <tr>\n",
       "      <th>190</th>\n",
       "      <td>2000</td>\n",
       "      <td>38</td>\n",
       "      <td>1.179477</td>\n",
       "      <td>1.190641</td>\n",
       "      <td>5.352851</td>\n",
       "      <td>4.912185</td>\n",
       "      <td>0.440666</td>\n",
       "    </tr>\n",
       "    <tr>\n",
       "      <th>216</th>\n",
       "      <td>2004</td>\n",
       "      <td>43</td>\n",
       "      <td>2.304910</td>\n",
       "      <td>0.467245</td>\n",
       "      <td>7.846516</td>\n",
       "      <td>7.410765</td>\n",
       "      <td>0.435751</td>\n",
       "    </tr>\n",
       "    <tr>\n",
       "      <th>10</th>\n",
       "      <td>2000</td>\n",
       "      <td>2</td>\n",
       "      <td>-0.189675</td>\n",
       "      <td>-0.398912</td>\n",
       "      <td>1.953680</td>\n",
       "      <td>1.559520</td>\n",
       "      <td>0.394160</td>\n",
       "    </tr>\n",
       "  </tbody>\n",
       "</table>\n",
       "</div>"
      ],
      "text/plain": [
       "     Year  State       VEP  Primary:Total Ballots Counted  Predictions  \\\n",
       "219  2016     43  3.177814                       2.595707    10.334098   \n",
       "24   2016      4  5.007414                       5.910588    15.162928   \n",
       "190  2000     38  1.179477                       1.190641     5.352851   \n",
       "216  2004     43  2.304910                       0.467245     7.846516   \n",
       "10   2000      2 -0.189675                      -0.398912     1.953680   \n",
       "\n",
       "       Actuals  Residual Testing  \n",
       "219   8.975000          1.359098  \n",
       "24   14.610509          0.552419  \n",
       "190   4.912185          0.440666  \n",
       "216   7.410765          0.435751  \n",
       "10    1.559520          0.394160  "
      ]
     },
     "execution_count": 26,
     "metadata": {},
     "output_type": "execute_result"
    }
   ],
   "source": [
    " X_test_predict_sort = X_test_predict.sort_values(by=[\"Residual Testing\"], ascending=False)\n",
    " X_test_predict_sort.head(5)"
   ]
  },
  {
   "cell_type": "code",
   "execution_count": null,
   "metadata": {},
   "outputs": [],
   "source": []
  },
  {
   "cell_type": "code",
   "execution_count": 27,
   "metadata": {},
   "outputs": [],
   "source": [
    "# For Sorted Predicted data...\n",
    "# create output for State interpreted as label\n",
    "X_test_predict_sort_label= X_test_predict_sort"
   ]
  },
  {
   "cell_type": "code",
   "execution_count": 29,
   "metadata": {},
   "outputs": [
    {
     "ename": "NameError",
     "evalue": "name 'labelencoder' is not defined",
     "output_type": "error",
     "traceback": [
      "\u001b[1;31m---------------------------------------------------------------------------\u001b[0m",
      "\u001b[1;31mNameError\u001b[0m                                 Traceback (most recent call last)",
      "\u001b[1;32m<ipython-input-29-a303b3b4ccdd>\u001b[0m in \u001b[0;36m<module>\u001b[1;34m\u001b[0m\n\u001b[0;32m      1\u001b[0m \u001b[1;32mfrom\u001b[0m \u001b[0msklearn\u001b[0m\u001b[1;33m.\u001b[0m\u001b[0mpreprocessing\u001b[0m \u001b[1;32mimport\u001b[0m \u001b[0mLabelEncoder\u001b[0m\u001b[1;33m\u001b[0m\u001b[1;33m\u001b[0m\u001b[0m\n\u001b[0;32m      2\u001b[0m \u001b[1;31m# show output with State interpreted as label\u001b[0m\u001b[1;33m\u001b[0m\u001b[1;33m\u001b[0m\u001b[1;33m\u001b[0m\u001b[0m\n\u001b[1;32m----> 3\u001b[1;33m \u001b[0mX_test_predict_sort_label\u001b[0m\u001b[1;33m[\u001b[0m\u001b[1;34m\"State\"\u001b[0m\u001b[1;33m]\u001b[0m \u001b[1;33m=\u001b[0m \u001b[0mlabelencoder\u001b[0m\u001b[1;33m.\u001b[0m\u001b[0minverse_transform\u001b[0m\u001b[1;33m(\u001b[0m \u001b[0mX_test_predict_sort\u001b[0m\u001b[1;33m[\u001b[0m\u001b[1;34m'State'\u001b[0m\u001b[1;33m]\u001b[0m\u001b[1;33m)\u001b[0m\u001b[1;33m\u001b[0m\u001b[1;33m\u001b[0m\u001b[0m\n\u001b[0m\u001b[0;32m      4\u001b[0m \u001b[0mX_test_predict_sort_label\u001b[0m\u001b[1;33m\u001b[0m\u001b[1;33m\u001b[0m\u001b[0m\n",
      "\u001b[1;31mNameError\u001b[0m: name 'labelencoder' is not defined"
     ]
    }
   ],
   "source": [
    "from sklearn.preprocessing import LabelEncoder \n",
    "# show output with State interpreted as label\n",
    "X_test_predict_sort_label[\"State\"] = labelencoder.inverse_transform( X_test_predict_sort['State'])\n",
    "X_test_predict_sort_label"
   ]
  },
  {
   "cell_type": "code",
   "execution_count": 32,
   "metadata": {},
   "outputs": [],
   "source": [
    "# For Sorted Training data...\n",
    "# create output for State interpreted as label\n",
    "X_test_training_sort_label= X_test_training_sort"
   ]
  },
  {
   "cell_type": "code",
   "execution_count": 33,
   "metadata": {},
   "outputs": [
    {
     "ename": "NameError",
     "evalue": "name 'labelencoder' is not defined",
     "output_type": "error",
     "traceback": [
      "\u001b[1;31m---------------------------------------------------------------------------\u001b[0m",
      "\u001b[1;31mNameError\u001b[0m                                 Traceback (most recent call last)",
      "\u001b[1;32m<ipython-input-33-7ab9591acac8>\u001b[0m in \u001b[0;36m<module>\u001b[1;34m\u001b[0m\n\u001b[0;32m      1\u001b[0m \u001b[1;31m# show output with State interpreted as label\u001b[0m\u001b[1;33m\u001b[0m\u001b[1;33m\u001b[0m\u001b[1;33m\u001b[0m\u001b[0m\n\u001b[1;32m----> 2\u001b[1;33m \u001b[0mX_test_training_sort_label\u001b[0m\u001b[1;33m[\u001b[0m\u001b[1;34m\"State\"\u001b[0m\u001b[1;33m]\u001b[0m \u001b[1;33m=\u001b[0m \u001b[0mlabelencoder\u001b[0m\u001b[1;33m.\u001b[0m\u001b[0minverse_transform\u001b[0m\u001b[1;33m(\u001b[0m \u001b[0mX_test_training_sort\u001b[0m\u001b[1;33m[\u001b[0m\u001b[1;34m'State'\u001b[0m\u001b[1;33m]\u001b[0m\u001b[1;33m)\u001b[0m\u001b[1;33m\u001b[0m\u001b[1;33m\u001b[0m\u001b[0m\n\u001b[0m\u001b[0;32m      3\u001b[0m \u001b[0mX_test_training_sort_label\u001b[0m\u001b[1;33m\u001b[0m\u001b[1;33m\u001b[0m\u001b[0m\n",
      "\u001b[1;31mNameError\u001b[0m: name 'labelencoder' is not defined"
     ]
    }
   ],
   "source": [
    "# show output with State interpreted as label\n",
    "X_test_training_sort_label[\"State\"] = labelencoder.inverse_transform( X_test_training_sort['State'])\n",
    "X_test_training_sort_label"
   ]
  },
  {
   "cell_type": "code",
   "execution_count": null,
   "metadata": {},
   "outputs": [],
   "source": []
  }
 ],
 "metadata": {
  "kernelspec": {
   "display_name": "Python 3",
   "language": "python",
   "name": "python3"
  },
  "language_info": {
   "codemirror_mode": {
    "name": "ipython",
    "version": 3
   },
   "file_extension": ".py",
   "mimetype": "text/x-python",
   "name": "python",
   "nbconvert_exporter": "python",
   "pygments_lexer": "ipython3",
   "version": "3.6.10"
  }
 },
 "nbformat": 4,
 "nbformat_minor": 4
}
